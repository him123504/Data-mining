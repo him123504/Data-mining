{
 "cells": [
  {
   "cell_type": "code",
   "execution_count": 2,
   "metadata": {},
   "outputs": [],
   "source": [
    "import re"
   ]
  },
  {
   "cell_type": "raw",
   "metadata": {},
   "source": [
    "re.search()\n",
    "re.match()\n",
    "re.findall()\n",
    "re.sub()"
   ]
  },
  {
   "cell_type": "raw",
   "metadata": {},
   "source": [
    "re.search() and re.match()\n",
    "- result : None (if the pattern is not found)\n",
    "           <match object> (if the pattern is found)\n",
    "                    - from match object we extract the groups \n",
    "                            (actual text that got matched)"
   ]
  },
  {
   "cell_type": "raw",
   "metadata": {},
   "source": [
    "re.findall()\n",
    "- result : None (if the pattern is not found)\n",
    "           tuple having all the matches (if the pattern is found)"
   ]
  },
  {
   "cell_type": "code",
   "execution_count": null,
   "metadata": {},
   "outputs": [],
   "source": []
  },
  {
   "cell_type": "code",
   "execution_count": 25,
   "metadata": {},
   "outputs": [
    {
     "name": "stdout",
     "output_type": "stream",
     "text": [
      "No match!!\n"
     ]
    }
   ],
   "source": [
    "# The match function in re\n",
    "# Matches for a pattern at the begining of a string\n",
    "\n",
    "line1 = \"this is PM modi\"\n",
    "line2 = \"Modi wins the election\"\n",
    "\n",
    "matchObj = re.match( r'modi', line1, re.I)\n",
    "\n",
    "if matchObj:\n",
    "    print (\"matchObj.group() : \", matchObj.group())\n",
    "else:\n",
    "    print (\"No match!!\")"
   ]
  },
  {
   "cell_type": "code",
   "execution_count": 26,
   "metadata": {},
   "outputs": [
    {
     "name": "stdout",
     "output_type": "stream",
     "text": [
      "Match found at the begining of the string!!\n",
      "matchObj.group() :  Modi\n"
     ]
    }
   ],
   "source": [
    "matchObj = re.match( r'modi', line2, re.M|re.I)\n",
    "\n",
    "if matchObj:\n",
    "    print (\"Match found at the begining of the string!!\")\n",
    "    print (\"matchObj.group() : \", matchObj.group())\n",
    "else:\n",
    "    print (\"No match!!\")"
   ]
  },
  {
   "cell_type": "code",
   "execution_count": 27,
   "metadata": {},
   "outputs": [
    {
     "name": "stdout",
     "output_type": "stream",
     "text": [
      "Match found in the string!!\n",
      "matchObj.group() :  modi\n"
     ]
    }
   ],
   "source": [
    "# The search function in re\n",
    "# Matches for a pattern anywhere in a string\n",
    "\n",
    "line1 = \"this is PM modi\"\n",
    "line2 = \"Modi wins the election\"\n",
    "\n",
    "matchObj = re.search( r'modi', line1, re.I)\n",
    "\n",
    "if matchObj:\n",
    "    print (\"Match found in the string!!\")\n",
    "    print (\"matchObj.group() : \", matchObj.group())\n",
    "else:\n",
    "    print (\"No match!!\")"
   ]
  },
  {
   "cell_type": "code",
   "execution_count": 28,
   "metadata": {},
   "outputs": [
    {
     "name": "stdout",
     "output_type": "stream",
     "text": [
      "Match found in the string!!\n",
      "matchObj.group() :  Modi\n"
     ]
    }
   ],
   "source": [
    "pattern = r'modi' # raw string\n",
    "matchObj = re.search( pattern, line2, re.I)\n",
    "\n",
    "if matchObj:\n",
    "    print (\"Match found in the string!!\")\n",
    "    print (\"matchObj.group() : \", matchObj.group())\n",
    "else:\n",
    "    print (\"No match!!\")"
   ]
  },
  {
   "cell_type": "code",
   "execution_count": 29,
   "metadata": {},
   "outputs": [
    {
     "name": "stdout",
     "output_type": "stream",
     "text": [
      "searchObj.group() :  modi\n",
      "searchObj.groups() :  ('modi',)\n"
     ]
    }
   ],
   "source": [
    "# search for multiple patterns in one go in re\n",
    "# we can use the | operator\n",
    "\n",
    "# E.g. If modi or rahul is present, put a match\n",
    "\n",
    "# line2 = \"BJP wins the election. PM modi to take oath\"\n",
    "line2 = \"BJP wins the election. PM modi to take oath rahul flies to Pataya\"\n",
    "# line2 = \"BJP wins the election. Rahul flies to Pataya\"\n",
    "\n",
    "searchObj = re.search( r'(modi|rahul)', line2, re.I)\n",
    "\n",
    "if searchObj:\n",
    "    print (\"searchObj.group() : \", searchObj.group())\n",
    "    print (\"searchObj.groups() : \", searchObj.groups())\n",
    "else:\n",
    "    print (\"No match!!\")\n"
   ]
  },
  {
   "cell_type": "code",
   "execution_count": 30,
   "metadata": {},
   "outputs": [
    {
     "data": {
      "text/plain": [
       "['modi', 'rahul']"
      ]
     },
     "execution_count": 30,
     "metadata": {},
     "output_type": "execute_result"
    }
   ],
   "source": [
    "searchObj = re.findall( r'(modi|rahul)', line2, re.I)\n",
    "searchObj"
   ]
  },
  {
   "cell_type": "code",
   "execution_count": 31,
   "metadata": {},
   "outputs": [
    {
     "data": {
      "text/plain": [
       "'I drive Hyundai Tuscon'"
      ]
     },
     "execution_count": 31,
     "metadata": {},
     "output_type": "execute_result"
    }
   ],
   "source": [
    "# Search and replace\n",
    "text = \"I drive Tuscon\"\n",
    "\n",
    "re.sub(string=text,pattern=r'Tuscon',repl='Hyundai Tuscon')"
   ]
  },
  {
   "cell_type": "markdown",
   "metadata": {},
   "source": [
    "### Literals\n",
    "\n",
    "All the examples above are for literals. They are matching the exact words like that of a normal string match\n",
    "\n",
    "E.g.\n",
    "\n",
    "Expression : _python_\n",
    "\n",
    "Matches : \n",
    "\n",
    "    1. Python is interesting (re.I)\n",
    "    2. A python code has extention.py\n",
    "    \n",
    "Doesn't Match : \n",
    "\n",
    "    1. This is a crossover\n",
    "    2. Java can be used as jython\n",
    "\n",
    "___"
   ]
  },
  {
   "cell_type": "markdown",
   "metadata": {},
   "source": [
    "### Character Classes\n",
    "\n",
    "#### 1. Options in [ ]\n"
   ]
  },
  {
   "cell_type": "code",
   "execution_count": 3,
   "metadata": {},
   "outputs": [],
   "source": [
    "text1 = \"In my defence, I'll plead not guilty\"\n",
    "text2 = \"US has best defense ships\""
   ]
  },
  {
   "cell_type": "code",
   "execution_count": 4,
   "metadata": {},
   "outputs": [
    {
     "name": "stdout",
     "output_type": "stream",
     "text": [
      "searchObj.group() :  defence\n"
     ]
    }
   ],
   "source": [
    "# text 1\n",
    "searchObj = re.search( r'defen[sc]e', text1, re.M|re.I)\n",
    "\n",
    "if searchObj:\n",
    "    print (\"searchObj.group() : \", searchObj.group())\n",
    "else:\n",
    "    print (\"No match!!\")"
   ]
  },
  {
   "cell_type": "code",
   "execution_count": 5,
   "metadata": {},
   "outputs": [
    {
     "name": "stdout",
     "output_type": "stream",
     "text": [
      "searchObj.group() :  defense\n"
     ]
    }
   ],
   "source": [
    "# text 2\n",
    "\n",
    "searchObj = re.search( r'defen[sc]e', text2, re.M|re.I)\n",
    "\n",
    "if searchObj:\n",
    "    print (\"searchObj.group() : \", searchObj.group())\n",
    "else:\n",
    "    print (\"No match!!\")"
   ]
  },
  {
   "cell_type": "code",
   "execution_count": 7,
   "metadata": {},
   "outputs": [
    {
     "name": "stdout",
     "output_type": "stream",
     "text": [
      "searchObj.group() :  defence\n"
     ]
    }
   ],
   "source": [
    "# text 2\n",
    "\n",
    "searchObj = re.search( r'defen[cs]e', text1, re.M|re.I)\n",
    "\n",
    "if searchObj:\n",
    "    print (\"searchObj.group() : \", searchObj.group())\n",
    "else:\n",
    "    print (\"No match!!\")"
   ]
  },
  {
   "cell_type": "markdown",
   "metadata": {},
   "source": [
    "#### 2. Digits [0-9] or `\\d`"
   ]
  },
  {
   "cell_type": "code",
   "execution_count": 10,
   "metadata": {},
   "outputs": [
    {
     "name": "stdout",
     "output_type": "stream",
     "text": [
      "There is a match and the values is :  1\n"
     ]
    }
   ],
   "source": [
    "text1 = \"we are number 1 in this city\"\n",
    "searchObj = re.search( r'[1-9]', text1, re.M|re.I)\n",
    "\n",
    "if searchObj:\n",
    "    print (\"There is a match and the values is : \", searchObj.group())\n",
    "else:\n",
    "    print (\"No match!!\")"
   ]
  },
  {
   "cell_type": "code",
   "execution_count": 11,
   "metadata": {},
   "outputs": [
    {
     "name": "stdout",
     "output_type": "stream",
     "text": [
      "There is a match and the values is :  1\n"
     ]
    }
   ],
   "source": [
    "text1 = \"we are numer 1 in this city\"\n",
    "searchObj = re.search( r'\\d', text1, re.M|re.I)\n",
    "\n",
    "if searchObj:\n",
    "    print (\"There is a match and the values is : \", searchObj.group())\n",
    "else:\n",
    "    print (\"No match!!\")"
   ]
  },
  {
   "cell_type": "markdown",
   "metadata": {},
   "source": [
    "#### 3. Characters [a-z] and [A-Z]\n",
    "\n",
    "Matches characters in a string"
   ]
  },
  {
   "cell_type": "code",
   "execution_count": 12,
   "metadata": {},
   "outputs": [
    {
     "name": "stdout",
     "output_type": "stream",
     "text": [
      "No match for case sensitive matching!!\n",
      "searchObj.group() :  M\n"
     ]
    }
   ],
   "source": [
    "formula1 = \"23523523M23523\"\n",
    "\n",
    "searchObj = re.search( r'[a-z]', formula1) # we have removed the case sensitive filter\n",
    "\n",
    "if searchObj:\n",
    "    print (\"searchObj.group() : \", searchObj.group())\n",
    "else:\n",
    "    print (\"No match for case sensitive matching!!\")\n",
    "    \n",
    "#---------------------------------------------------------------------\n",
    "\n",
    "# A-Z\n",
    "searchObj = re.search( r'[A-Z]', formula1) # we have removed the case sensitive filter\n",
    "\n",
    "if searchObj:\n",
    "    print (\"searchObj.group() : \", searchObj.group())\n",
    "else:\n",
    "    print (\"No match for case sensitive matching!!\")\n",
    "    \n",
    "#"
   ]
  },
  {
   "cell_type": "markdown",
   "metadata": {},
   "source": [
    "#### 4. All alpha-numeric [a-zA-Z0-9]"
   ]
  },
  {
   "cell_type": "code",
   "execution_count": 13,
   "metadata": {},
   "outputs": [
    {
     "name": "stdout",
     "output_type": "stream",
     "text": [
      "searchObj.group() :  4\n"
     ]
    }
   ],
   "source": [
    "formula2 = '454jkh5j5245jh5jkh45jk245h24'\n",
    "\n",
    "searchObj = re.search( r'[a-zA-Z0-9]', formula2) \n",
    "if searchObj:\n",
    "    print (\"searchObj.group() : \", searchObj.group())\n",
    "else:\n",
    "    print (\"No match!!\")"
   ]
  },
  {
   "cell_type": "code",
   "execution_count": 18,
   "metadata": {},
   "outputs": [
    {
     "name": "stdout",
     "output_type": "stream",
     "text": [
      "No match!!\n"
     ]
    }
   ],
   "source": [
    "formula2 = '@#$%*^#$$#&%$#$^&&#&'\n",
    "\n",
    "searchObj = re.search( r'[a-zA-Z0-9]', formula2) \n",
    "if searchObj:\n",
    "    print (\"searchObj.group() : \", searchObj.group())\n",
    "else:\n",
    "    print (\"No match!!\")"
   ]
  },
  {
   "cell_type": "code",
   "execution_count": 19,
   "metadata": {},
   "outputs": [
    {
     "name": "stdout",
     "output_type": "stream",
     "text": [
      "Matched Objects:  ['3', '4', 'a', '4', '6', '4', '3', '4', '3', '4', 'M', 'M']\n"
     ]
    }
   ],
   "source": [
    "formula2 = '34a4643%^&434MM'\n",
    "\n",
    "searchObj = re.findall( r'[a-zA-Z0-9]', formula2) \n",
    "if searchObj:\n",
    "    print (\"Matched Objects: \", searchObj)\n",
    "    # please note, we have not used group() now\n",
    "    # multiple matches are stored as a list\n",
    "    # run type(searchObj) to verify\n",
    "else:\n",
    "    print (\"No match!!\")"
   ]
  },
  {
   "cell_type": "markdown",
   "metadata": {},
   "source": [
    "#### 5. Exclude the pattern\n",
    "\n",
    "We use a caret (^) to negate or exclude the pattern that is mentioned\n",
    "\n",
    "E.g. `[0-9]` matches all digits, which is also done by `\\d`<p>\n",
    "     `[^0-9]` matches everything except digits also by `\\D`"
   ]
  },
  {
   "cell_type": "code",
   "execution_count": 22,
   "metadata": {},
   "outputs": [
    {
     "name": "stdout",
     "output_type": "stream",
     "text": [
      "No match!!\n"
     ]
    }
   ],
   "source": [
    "formula2 = '454jkh5j5245jh5jkh45jk245h24'\n",
    "\n",
    "searchObj = re.search( r'[^a-zA-Z0-9]', formula2) \n",
    "if searchObj:\n",
    "    print (\"searchObj.group() : \", searchObj.group())\n",
    "else:\n",
    "    print (\"No match!!\")"
   ]
  },
  {
   "cell_type": "code",
   "execution_count": 25,
   "metadata": {},
   "outputs": [
    {
     "name": "stdout",
     "output_type": "stream",
     "text": [
      "searchObj.group() :  @\n"
     ]
    }
   ],
   "source": [
    "formula2 = '@#$%*^#$$#&%$#$^&&#&'\n",
    "\n",
    "searchObj = re.search( r'[^a-zA-Z0-9]', formula2) \n",
    "if searchObj:\n",
    "    print (\"searchObj.group() : \", searchObj.group())\n",
    "else:\n",
    "    print (\"No match!!\")"
   ]
  },
  {
   "cell_type": "code",
   "execution_count": 26,
   "metadata": {},
   "outputs": [
    {
     "name": "stdout",
     "output_type": "stream",
     "text": [
      "['@', '#', '$', '%', '*', '^', '#', '$', '$', '#', '&', '%', '$', '#', '$', '^', '&', '&', '#', '&']\n"
     ]
    }
   ],
   "source": [
    "formula2 = '@#$%*^#$$#&%$#$^&&#&'\n",
    "\n",
    "searchObj = re.findall( r'[^a-zA-Z0-9]', formula2) \n",
    "print(searchObj)"
   ]
  },
  {
   "cell_type": "code",
   "execution_count": 27,
   "metadata": {},
   "outputs": [
    {
     "data": {
      "text/plain": [
       "[]"
      ]
     },
     "execution_count": 27,
     "metadata": {},
     "output_type": "execute_result"
    }
   ],
   "source": [
    "formula2 = '454jkh5j5245jh5jkh45jk245h24'\n",
    "\n",
    "searchObj = re.findall( r'[^a-zA-Z0-9]', formula2) \n",
    "searchObj"
   ]
  },
  {
   "cell_type": "code",
   "execution_count": 28,
   "metadata": {},
   "outputs": [
    {
     "name": "stdout",
     "output_type": "stream",
     "text": [
      "Matched Objects:  ['_', '~', '%', '@', '!', '%', '^', '&']\n"
     ]
    }
   ],
   "source": [
    "formula2 = '34a46_~%@!43%^&434MM'\n",
    "\n",
    "searchObj = re.findall( r'[^a-zA-Z0-9]', formula2) \n",
    "# please note as we have used a ^, so we get all strings except alphanumeric\n",
    "if searchObj:\n",
    "    print (\"Matched Objects: \", searchObj)\n",
    "else:\n",
    "    print (\"No match!!\")"
   ]
  },
  {
   "cell_type": "markdown",
   "metadata": {},
   "source": [
    "#### 6. Match any character except the newline : `.`"
   ]
  },
  {
   "cell_type": "code",
   "execution_count": 31,
   "metadata": {},
   "outputs": [
    {
     "name": "stdout",
     "output_type": "stream",
     "text": [
      "Matched Objects:  ['3', '4', 'a', '4', '6', '_', '~', '%', '@', '!', '.', '.', '.', '4', '3', '%', '^', '&', '4', '3', '4', 'M', 'M']\n"
     ]
    }
   ],
   "source": [
    "formula2 = '34a46_~%@!..\\n.43%^&434MM'\n",
    "\n",
    "searchObj = re.findall( r'.', formula2) \n",
    "\n",
    "if searchObj:\n",
    "    print (\"Matched Objects: \", searchObj)\n",
    "else:\n",
    "    print (\"No match!!\")"
   ]
  },
  {
   "cell_type": "code",
   "execution_count": 32,
   "metadata": {},
   "outputs": [
    {
     "name": "stdout",
     "output_type": "stream",
     "text": [
      "Matched Objects:  ['.', '.', '.']\n"
     ]
    }
   ],
   "source": [
    "formula2 = '34a46_~%@!..\\n.43%^&434MM'\n",
    "\n",
    "searchObj = re.findall( r'\\.', formula2) \n",
    "\n",
    "if searchObj:\n",
    "    print (\"Matched Objects: \", searchObj)\n",
    "else:\n",
    "    print (\"No match!!\")"
   ]
  },
  {
   "cell_type": "markdown",
   "metadata": {},
   "source": [
    "#### 7. `\\s` matches a whitespace character  `[ \\t\\r\\n\\f]`"
   ]
  },
  {
   "cell_type": "code",
   "execution_count": 34,
   "metadata": {},
   "outputs": [
    {
     "name": "stdout",
     "output_type": "stream",
     "text": [
      "Enter password : my password\n",
      "Please don't use spaces\n"
     ]
    }
   ],
   "source": [
    "passwd = input(\"Enter password : \")\n",
    "\n",
    "searchObj = re.search(r'\\s',passwd)\n",
    "\n",
    "if searchObj == None:\n",
    "    print(\"Correct passwd\")\n",
    "else:\n",
    "    print(\"Please don't use spaces\")"
   ]
  },
  {
   "cell_type": "code",
   "execution_count": 36,
   "metadata": {},
   "outputs": [
    {
     "name": "stdout",
     "output_type": "stream",
     "text": [
      "Matched Objects:  ['\\n']\n"
     ]
    }
   ],
   "source": [
    "formula2 = '34a46_~%@!..\\n.43%^&434MM'\n",
    "\n",
    "searchObj = re.findall( r'\\s', formula2) \n",
    "\n",
    "if searchObj:\n",
    "    print (\"Matched Objects: \", searchObj)\n",
    "else:\n",
    "    print (\"No match!!\")"
   ]
  },
  {
   "cell_type": "markdown",
   "metadata": {},
   "source": [
    "#### 8. `\\w` matches a single word character `[A-Za-z0-9]` and `\\W` for `[^A-Za-z0-9]`"
   ]
  },
  {
   "cell_type": "markdown",
   "metadata": {},
   "source": [
    "---\n",
    "### Quantifiers\n",
    "\n",
    "These symbols convey \"how many times\" a pattern has to be present inside a string. Whether it is present atleast once or multiple or exactly once or exactly n times etc.\n",
    "\n",
    "#### 1. Exactly one occurance or none at all `?`\n",
    "\n",
    "There will be a match if a pattern is present ___exactly once___ or __it is not present at all__"
   ]
  },
  {
   "cell_type": "code",
   "execution_count": 37,
   "metadata": {},
   "outputs": [
    {
     "name": "stdout",
     "output_type": "stream",
     "text": [
      "Matched Objects for s1:  9\n",
      "-----------------------------------------------\n",
      "Matched Objects for s2:  \n",
      "Not going into unmatched state\n"
     ]
    }
   ],
   "source": [
    "s1 = \"9gag\"\n",
    "s2 = \"marathon\"\n",
    "\n",
    "\n",
    "# search for exactly one number or none at all\n",
    "# Both s1 and s2 should match\n",
    "\n",
    "searchObj = re.search( r'[0-9]?', s1) \n",
    "\n",
    "if searchObj:\n",
    "    print (\"Matched Objects for s1: \", searchObj.group())\n",
    "else:\n",
    "    print (\"No match at all!!\")\n",
    "\n",
    "#---------------------------------------------------------\n",
    "searchObj = re.search( r'[0-9]?', s2) \n",
    "\n",
    "if searchObj:\n",
    "    print(\"-----------------------------------------------\")\n",
    "    print (\"Matched Objects for s2: \", searchObj.group())\n",
    "    print(\"Not going into unmatched state\")\n",
    "else:\n",
    "    print (\"No match at all!!\")"
   ]
  },
  {
   "cell_type": "markdown",
   "metadata": {},
   "source": [
    "#### 2. Atleast one occurance `+`\n",
    "\n",
    "There will be a match if a pattern is present ___at least once___"
   ]
  },
  {
   "cell_type": "code",
   "execution_count": 40,
   "metadata": {},
   "outputs": [
    {
     "name": "stdout",
     "output_type": "stream",
     "text": [
      "Matched Objects for s1:  9\n",
      "-----------------------------------------------\n",
      "No match at all for s2!!\n"
     ]
    }
   ],
   "source": [
    "s1 = \"9gag\"\n",
    "s2 = \"marathon\"\n",
    "\n",
    "searchObj = re.match( r'[0-9]+', s1) \n",
    "\n",
    "if searchObj:\n",
    "    print (\"Matched Objects for s1: \", searchObj.group())\n",
    "else:\n",
    "    print (\"No match at all!!\")\n",
    "\n",
    "#---------------------------------------------------------\n",
    "searchObj = re.match( r'[0-9]+', s2) \n",
    "print(\"-----------------------------------------------\")\n",
    "\n",
    "\n",
    "if searchObj:\n",
    "    print (\"Matched Objects for s2: \", searchObj.group())\n",
    "else:\n",
    "    print (\"No match at all for s2!!\")"
   ]
  },
  {
   "cell_type": "markdown",
   "metadata": {},
   "source": [
    "#### 3. Many occurances or none at all `*`\n",
    "\n",
    "There will be a match if a pattern is present ___any number of times___ or __none at all__"
   ]
  },
  {
   "cell_type": "code",
   "execution_count": 42,
   "metadata": {},
   "outputs": [
    {
     "name": "stdout",
     "output_type": "stream",
     "text": [
      "Matched Objects for s1:  99\n",
      "-----------------------------------------------\n",
      "Matched Objects for s2:  \n"
     ]
    }
   ],
   "source": [
    "s1 = \"99gag\"\n",
    "s2 = \"marathon\"\n",
    "\n",
    "# search for exactly one number or none at all\n",
    "# Both s1 and s2 should match\n",
    "\n",
    "searchObj = re.match( r'[0-9]*', s1) \n",
    "\n",
    "if searchObj:\n",
    "    print (\"Matched Objects for s1: \", searchObj.group())\n",
    "else:\n",
    "    print (\"No match at all!!\")\n",
    "\n",
    "#---------------------------------------------------------\n",
    "searchObj = re.match( r'[0-9]*', s2) \n",
    "print(\"-----------------------------------------------\")\n",
    "\n",
    "\n",
    "if searchObj:\n",
    "    print (\"Matched Objects for s2: \", searchObj.group())\n",
    "else:\n",
    "    print (\"No match at all for s2!!\")"
   ]
  },
  {
   "cell_type": "markdown",
   "metadata": {},
   "source": [
    "#### 4. Minimum n times and maximum m times `{n,m}`\n",
    "\n",
    "There will be a match if a pattern is present ___n number of times___ and maximum __m times__\n",
    "\n",
    "- If n is not given and m is given, then it's min = 0 and max = m\n",
    "- If m is not given and n is given, then it's min = n and max = any number of times"
   ]
  },
  {
   "cell_type": "code",
   "execution_count": 46,
   "metadata": {},
   "outputs": [
    {
     "name": "stdout",
     "output_type": "stream",
     "text": [
      "Matched Objects for s1:  123456\n",
      "No match at all!!\n"
     ]
    }
   ],
   "source": [
    "s1 = \"123456gag\"\n",
    "s2 = \"99marathon99999\"\n",
    "\n",
    "# search for exactly one number or none at all\n",
    "# Both s1 and s2 should match\n",
    "\n",
    "searchObj = re.match( r'[0-9]{3,6}', s1) \n",
    "\n",
    "if searchObj:\n",
    "    print (\"Matched Objects for s1: \", searchObj.group())\n",
    "else:\n",
    "    print (\"No match at all!!\")\n",
    "\n",
    "#---------------------------------------------------------\n",
    "searchObj = re.match( r'[0-9]{3,6}', s2) \n",
    "\n",
    "if searchObj:\n",
    "    print (\"Matched Objects for s2: \", searchObj.group())\n",
    "else:\n",
    "    print (\"No match at all!!\")\n",
    "\n",
    "#---------------------------------------------------------"
   ]
  },
  {
   "cell_type": "markdown",
   "metadata": {},
   "source": [
    "---\n",
    "### Anchors\n",
    "\n",
    "They are used to specify the position where we need to get a match. Like, start of the string, end of the string, word boundaries etc"
   ]
  },
  {
   "cell_type": "markdown",
   "metadata": {},
   "source": [
    "#### 1. `^` : start of the string\n",
    "\n",
    "This is differnet from caret when used inside a bracket `[^]`."
   ]
  },
  {
   "cell_type": "code",
   "execution_count": 49,
   "metadata": {},
   "outputs": [
    {
     "name": "stdout",
     "output_type": "stream",
     "text": [
      "No match at all!!\n",
      "-----------------------------------------------\n",
      "Matched Objects for s2:  python\n"
     ]
    }
   ],
   "source": [
    "# this is different from [^] \n",
    "\n",
    "# Aim : to search for the pattern \"python\" in the start of the string\n",
    "\n",
    "s1 = \"we are learning python for data science\"\n",
    "s2 = \"python is fun\"\n",
    "\n",
    "searchObj = re.search( r'^python', s1) \n",
    "if searchObj:\n",
    "    print (\"Matched Objects for s1: \", searchObj.group())\n",
    "else:\n",
    "    print (\"No match at all!!\")\n",
    "\n",
    "#---------------------------------------------------------\n",
    "searchObj = re.search( r'^python', s2) \n",
    "print(\"-----------------------------------------------\")\n",
    "if searchObj:\n",
    "    print (\"Matched Objects for s2: \", searchObj.group())\n",
    "else:\n",
    "    print (\"No match at all for s2!!\")\n"
   ]
  },
  {
   "cell_type": "markdown",
   "metadata": {},
   "source": [
    "#### 2. `$` : end of the string"
   ]
  },
  {
   "cell_type": "code",
   "execution_count": 50,
   "metadata": {},
   "outputs": [
    {
     "name": "stdout",
     "output_type": "stream",
     "text": [
      "No match at all!!\n",
      "-----------------------------------------------\n",
      "No match at all for s2!!\n",
      "-----------------------------------------------\n",
      "Matched Objects for s3:  Python\n"
     ]
    }
   ],
   "source": [
    "# this is different from [^] \n",
    "\n",
    "# Aim : to search for the pattern \"python\" in the start of the string\n",
    "\n",
    "s1 = \"we are learning python for data science\"\n",
    "s2 = \"python is fun\"\n",
    "s3 = \"I love Python\"\n",
    "\n",
    "searchObj = re.search( r'python$', s1, re.I) \n",
    "if searchObj:\n",
    "    print (\"Matched Objects for s1: \", searchObj.group())\n",
    "else:\n",
    "    print (\"No match at all!!\")\n",
    "\n",
    "#---------------------------------------------------------\n",
    "searchObj = re.search( r'python$', s2, re.I) \n",
    "print(\"-----------------------------------------------\")\n",
    "if searchObj:\n",
    "    print (\"Matched Objects for s2: \", searchObj.group())\n",
    "else:\n",
    "    print (\"No match at all for s2!!\")\n",
    "\n",
    "#---------------------------------------------------------\n",
    "searchObj = re.search( r'python$', s3, re.I) \n",
    "print(\"-----------------------------------------------\")\n",
    "if searchObj:\n",
    "    print (\"Matched Objects for s3: \", searchObj.group())\n",
    "else:\n",
    "    print (\"No match at all for s3!!\")\n"
   ]
  },
  {
   "cell_type": "code",
   "execution_count": 51,
   "metadata": {},
   "outputs": [
    {
     "name": "stdout",
     "output_type": "stream",
     "text": [
      "Matched Objects for s1:  ['python']\n",
      "-----------------------------------------------\n",
      "No match!!\n"
     ]
    }
   ],
   "source": [
    "s1 = \"we are learning python\"\n",
    "s2 = \"python is fun\"\n",
    "\n",
    "searchObj = re.findall( r'python$', s1) \n",
    "if searchObj:\n",
    "    print (\"Matched Objects for s1: \", searchObj)\n",
    "else:\n",
    "    print (\"No match at all!!\")\n",
    "\n",
    "#---------------------------------------------------------\n",
    "searchObj = re.match( r'python$', s2) \n",
    "print(\"-----------------------------------------------\")\n",
    "if searchObj:\n",
    "    print (\"Matched Objects for s2: \", searchObj.group())\n",
    "else:\n",
    "    print (\"No match!!\")\n"
   ]
  },
  {
   "cell_type": "markdown",
   "metadata": {},
   "source": [
    "#### 3. `\\bxxx\\b` : Exact pattern within a string.\n",
    "\n",
    "This would match the exact pattern but won't match for strings that contain the given patten along with something else"
   ]
  },
  {
   "cell_type": "code",
   "execution_count": 52,
   "metadata": {},
   "outputs": [
    {
     "name": "stdout",
     "output_type": "stream",
     "text": [
      "Matched Objects for s1:  ['rub']\n",
      "-----------------------------------------------\n",
      "Matched Objects for s2:  ['rub']\n",
      "-----------------------------------------------\n",
      "Matched Objects for s3:  ['rub']\n"
     ]
    }
   ],
   "source": [
    "s1 = \"This is a good vapo rub\"\n",
    "s2 = \"Malaysia has largest rubber production\"\n",
    "s3 = \"Brabbbruby is an easy language\"\n",
    "\n",
    "searchObj = re.findall( r'rub', s1) \n",
    "if searchObj:\n",
    "    print (\"Matched Objects for s1: \", searchObj)\n",
    "else:\n",
    "    print (\"No match at all!!\")\n",
    "\n",
    "#---------------------------------------------------------\n",
    "searchObj = re.findall(r'rub', s2) \n",
    "print(\"-----------------------------------------------\")\n",
    "if searchObj:\n",
    "    print (\"Matched Objects for s2: \", searchObj)\n",
    "else:\n",
    "    print (\"No match!!\")\n",
    "\n",
    "#---------------------------------------------------------\n",
    "searchObj = re.findall(r'rub', s3) \n",
    "print(\"-----------------------------------------------\")\n",
    "if searchObj:\n",
    "    print (\"Matched Objects for s3: \", searchObj)\n",
    "else:\n",
    "    print (\"No match!!\")\n"
   ]
  },
  {
   "cell_type": "markdown",
   "metadata": {},
   "source": [
    "#### 4. `\\bxxx\\B` : Sting containing the pattern but not the exact pattern\n",
    "\n",
    "This is the exact opposite of the above boundary patterm. This would match for the strings that contain the given patten along with something else but will __never__ match if the patten is present alone"
   ]
  },
  {
   "cell_type": "code",
   "execution_count": 54,
   "metadata": {},
   "outputs": [
    {
     "name": "stdout",
     "output_type": "stream",
     "text": [
      "No match at all!!\n",
      "-----------------------------------------------\n",
      "Matched Objects for s2:  rub\n",
      "-----------------------------------------------\n",
      "Matched Objects for s3:  rub\n",
      "-----------------------------------------------\n",
      "Matched Objects for s4:  rub\n"
     ]
    }
   ],
   "source": [
    "s1 = \"rub\"\n",
    "s2 = \"rubber\"\n",
    "s3 = \"ruby\"\n",
    "s4 = \"rubies\"\n",
    "\n",
    "searchObj = re.findall( r'\\brub\\B', s1) \n",
    "if searchObj:\n",
    "    print (\"Matched Objects for s1: \", searchObj)\n",
    "else:\n",
    "    print (\"No match at all!!\")\n",
    "\n",
    "#---------------------------------------------------------\n",
    "searchObj = re.match(r'\\brub\\B', s2) \n",
    "print(\"-----------------------------------------------\")\n",
    "if searchObj:\n",
    "    print (\"Matched Objects for s2: \", searchObj.group())\n",
    "else:\n",
    "    print (\"No match!!\")\n",
    "\n",
    "#---------------------------------------------------------\n",
    "searchObj = re.match(r'\\brub\\B', s3) \n",
    "print(\"-----------------------------------------------\")\n",
    "if searchObj:\n",
    "    print (\"Matched Objects for s3: \", searchObj.group())\n",
    "else:\n",
    "    print (\"No match!!\")\n",
    "\n",
    "#---------------------------------------------------------\n",
    "searchObj = re.match(r'\\brub\\B', s4) \n",
    "print(\"-----------------------------------------------\")\n",
    "if searchObj:\n",
    "    print (\"Matched Objects for s4: \", searchObj.group())\n",
    "else:\n",
    "    print (\"No match!!\")"
   ]
  },
  {
   "cell_type": "code",
   "execution_count": 56,
   "metadata": {},
   "outputs": [
    {
     "name": "stdout",
     "output_type": "stream",
     "text": [
      "-----------------------------------------------\n",
      "Matched Objects for s3:  Manuj Singla\n",
      "-----------------------------------------------\n",
      "No match!!\n"
     ]
    }
   ],
   "source": [
    "name1 = \"Manuj Singla\"\n",
    "name2 = \"Arpit Dqwr\"\n",
    "\n",
    "searchObj = re.search(r'^M([a-zA-Z]*)(\\s)+S([a-zA-Z]*)', name1) \n",
    "\n",
    "print(\"-----------------------------------------------\")\n",
    "if searchObj:\n",
    "    print (\"Matched Objects for s3: \", searchObj.group())\n",
    "else:\n",
    "    print (\"No match!!\")\n",
    "    \n",
    "searchObj = re.search(r'^M([a-zA-Z]*)(\\s)+S([a-zA-Z]*)', name2) \n",
    "\n",
    "print(\"-----------------------------------------------\")\n",
    "if searchObj:\n",
    "    print (\"Matched Objects for s3: \", searchObj.group())\n",
    "else:\n",
    "    print (\"No match!!\")\n"
   ]
  },
  {
   "cell_type": "code",
   "execution_count": null,
   "metadata": {},
   "outputs": [],
   "source": []
  }
 ],
 "metadata": {
  "kernelspec": {
   "display_name": "Python 3",
   "language": "python",
   "name": "python3"
  },
  "language_info": {
   "codemirror_mode": {
    "name": "ipython",
    "version": 3
   },
   "file_extension": ".py",
   "mimetype": "text/x-python",
   "name": "python",
   "nbconvert_exporter": "python",
   "pygments_lexer": "ipython3",
   "version": "3.7.4"
  }
 },
 "nbformat": 4,
 "nbformat_minor": 2
}
