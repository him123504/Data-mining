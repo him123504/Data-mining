{
 "cells": [
  {
   "cell_type": "code",
   "execution_count": 4,
   "metadata": {},
   "outputs": [],
   "source": [
    "import re"
   ]
  },
  {
   "cell_type": "raw",
   "metadata": {},
   "source": [
    "re.search() # it looks for a pattern in whole of the string\n",
    "                And it matched at the first occurance\n",
    "re.match()  # It looks for a pattern only in the beginning of the string\n",
    "re.findall() # It is almost like search only with different output (tuple)\n",
    "                # Unlike search, it doens't stop at the first occurance\n",
    "re.sub()     # it is used to repalce certain values"
   ]
  },
  {
   "cell_type": "raw",
   "metadata": {},
   "source": [
    "re.search() and re.match()\n",
    "- result : None (if the pattern is not found)\n",
    "           <match object> (if the pattern is found)\n",
    "                    - from match object we extract the groups \n",
    "                            (actual text that got matched)"
   ]
  },
  {
   "cell_type": "raw",
   "metadata": {},
   "source": [
    "re.findall()\n",
    "- result : None (if the pattern is not found)\n",
    "           tuple having all the matches (if the pattern is found)"
   ]
  },
  {
   "cell_type": "code",
   "execution_count": null,
   "metadata": {},
   "outputs": [],
   "source": [
    "# pd.read_csv(r'E:\\DataSets\\Stores.csv')"
   ]
  },
  {
   "cell_type": "code",
   "execution_count": 1,
   "metadata": {},
   "outputs": [],
   "source": [
    "line1 = \"this is PM modi\""
   ]
  },
  {
   "cell_type": "code",
   "execution_count": 2,
   "metadata": {},
   "outputs": [],
   "source": [
    "line2 = \"Modi wins the election\""
   ]
  },
  {
   "cell_type": "code",
   "execution_count": null,
   "metadata": {},
   "outputs": [],
   "source": [
    "# re.I :: Making the macth case insensitive"
   ]
  },
  {
   "cell_type": "code",
   "execution_count": 5,
   "metadata": {},
   "outputs": [],
   "source": [
    "matchObj = re.match( r'modi', line1, re.I)"
   ]
  },
  {
   "cell_type": "code",
   "execution_count": 9,
   "metadata": {},
   "outputs": [
    {
     "name": "stdout",
     "output_type": "stream",
     "text": [
      "No match!!\n"
     ]
    }
   ],
   "source": [
    "if matchObj:\n",
    "    print (\"matchObj.group() : \", matchObj.group())\n",
    "else:\n",
    "    print (\"No match!!\")"
   ]
  },
  {
   "cell_type": "code",
   "execution_count": 11,
   "metadata": {},
   "outputs": [
    {
     "name": "stdout",
     "output_type": "stream",
     "text": [
      "Match found at the begining of the string!!\n",
      "matchObj.group() :  Modi\n"
     ]
    }
   ],
   "source": [
    "matchObj = re.match( r'modi', line2, re.M|re.I)\n",
    "\n",
    "if matchObj:\n",
    "    print (\"Match found at the begining of the string!!\")\n",
    "    print (\"matchObj.group() : \", matchObj.group())\n",
    "else:\n",
    "    print (\"No match!!\")"
   ]
  },
  {
   "cell_type": "code",
   "execution_count": 12,
   "metadata": {},
   "outputs": [
    {
     "name": "stdout",
     "output_type": "stream",
     "text": [
      "No match!!\n"
     ]
    }
   ],
   "source": [
    "# The match function in re\n",
    "# Matches for a pattern at the begining of a string\n",
    "\n",
    "line1 = \"this is PM modi\"\n",
    "line2 = \"Modi wins the election\"\n",
    "\n",
    "matchObj = re.match( r'modi', line1, re.I)\n",
    "\n",
    "if matchObj:\n",
    "    print (\"matchObj.group() : \", matchObj.group())\n",
    "else:\n",
    "    print (\"No match!!\")"
   ]
  },
  {
   "cell_type": "code",
   "execution_count": 32,
   "metadata": {},
   "outputs": [
    {
     "name": "stdout",
     "output_type": "stream",
     "text": [
      "Match found at the begining of the string!!\n",
      "matchObj.group() :  Modi\n"
     ]
    }
   ],
   "source": [
    "matchObj = re.match( r'modi', line2, re.M|re.I)\n",
    "\n",
    "if matchObj:\n",
    "    print (\"Match found at the begining of the string!!\")\n",
    "    print (\"matchObj.group() : \", matchObj.group())\n",
    "else:\n",
    "    print (\"No match!!\")"
   ]
  },
  {
   "cell_type": "code",
   "execution_count": 13,
   "metadata": {},
   "outputs": [
    {
     "name": "stdout",
     "output_type": "stream",
     "text": [
      "Match found in the string!!\n",
      "matchObj.group() :  modi\n"
     ]
    }
   ],
   "source": [
    "# The search function in re\n",
    "# Matches for a pattern anywhere in a string\n",
    "\n",
    "line1 = \"this is PM modi\"\n",
    "line2 = \"Modi wins the election\"\n",
    "\n",
    "matchObj = re.search( r'modi', line1, re.I)\n",
    "\n",
    "if matchObj:\n",
    "    print (\"Match found in the string!!\")\n",
    "    print (\"matchObj.group() : \", matchObj.group())\n",
    "else:\n",
    "    print (\"No match!!\")"
   ]
  },
  {
   "cell_type": "code",
   "execution_count": 14,
   "metadata": {},
   "outputs": [
    {
     "name": "stdout",
     "output_type": "stream",
     "text": [
      "Match found in the string!!\n",
      "matchObj.group() :  Modi\n"
     ]
    }
   ],
   "source": [
    "pattern = r'modi' # raw string\n",
    "matchObj = re.search( pattern, line2, re.I)\n",
    "\n",
    "if matchObj:\n",
    "    print (\"Match found in the string!!\")\n",
    "    print (\"matchObj.group() : \", matchObj.group())\n",
    "else:\n",
    "    print (\"No match!!\")"
   ]
  },
  {
   "cell_type": "code",
   "execution_count": 23,
   "metadata": {},
   "outputs": [
    {
     "name": "stdout",
     "output_type": "stream",
     "text": [
      "searchObj.group() :  modi\n",
      "searchObj.groups() :  ('modi',)\n"
     ]
    }
   ],
   "source": [
    "# search for multiple patterns in one go in re\n",
    "# we can use the | operator\n",
    "\n",
    "# E.g. If modi or rahul is present, put a match\n",
    "\n",
    "#line2 = \"BJP wins the election. PM modi to take oath\"\n",
    "line2 = \"BJP wins the election. PM modi to take oath rahul congratulates him\"\n",
    "# line2 = \"BJP wins the election. Rahul congratulates him\"\n",
    "#line2 = \"BJP wins the election. Rahul congratulates him. Modi to address a rally\"\n",
    "# line2 = \"BJP wins the election.\"\n",
    "\n",
    "searchObj = re.search( r'(modi|rahul)', line2, re.I)\n",
    "\n",
    "if searchObj:\n",
    "    print (\"searchObj.group() : \", searchObj.group())\n",
    "    print (\"searchObj.groups() : \", searchObj.groups())\n",
    "else:\n",
    "    print (\"No match!!\")\n"
   ]
  },
  {
   "cell_type": "code",
   "execution_count": 24,
   "metadata": {},
   "outputs": [
    {
     "data": {
      "text/plain": [
       "['modi', 'rahul']"
      ]
     },
     "execution_count": 24,
     "metadata": {},
     "output_type": "execute_result"
    }
   ],
   "source": [
    "searchObj = re.findall( r'(modi|rahul)', line2, re.I)\n",
    "searchObj"
   ]
  },
  {
   "cell_type": "code",
   "execution_count": 25,
   "metadata": {},
   "outputs": [
    {
     "data": {
      "text/plain": [
       "'I drive Hyundai Tuscon'"
      ]
     },
     "execution_count": 25,
     "metadata": {},
     "output_type": "execute_result"
    }
   ],
   "source": [
    "# Search and replace\n",
    "text = \"I drive Tuscon\"\n",
    "\n",
    "re.sub(string=text,pattern=r'Tuscon',repl='Hyundai Tuscon')"
   ]
  }
 ],
 "metadata": {
  "kernelspec": {
   "display_name": "Python 3",
   "language": "python",
   "name": "python3"
  },
  "language_info": {
   "codemirror_mode": {
    "name": "ipython",
    "version": 3
   },
   "file_extension": ".py",
   "mimetype": "text/x-python",
   "name": "python",
   "nbconvert_exporter": "python",
   "pygments_lexer": "ipython3",
   "version": "3.7.4"
  }
 },
 "nbformat": 4,
 "nbformat_minor": 2
}
